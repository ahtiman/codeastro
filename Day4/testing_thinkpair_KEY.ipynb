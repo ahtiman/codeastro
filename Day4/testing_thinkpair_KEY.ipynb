{
  "nbformat": 4,
  "nbformat_minor": 0,
  "metadata": {
    "colab": {
      "name": "testing_thinkpair_KEY.ipynb",
      "provenance": [],
      "collapsed_sections": []
    },
    "kernelspec": {
      "name": "python3",
      "display_name": "Python 3"
    }
  },
  "cells": [
    {
      "cell_type": "markdown",
      "metadata": {
        "id": "QHDrErk5jKYF"
      },
      "source": [
        "# Think-pair: Software Testing\n",
        "\n",
        "Spend 10 minutes working through this notebook on your own, and 5 minutes discussing your answers in a breakout room with a partner. If you finish early, you can start writing tests for your own package."
      ]
    },
    {
      "cell_type": "code",
      "metadata": {
        "id": "bVZx9rCIW38K"
      },
      "source": [
        "import numpy as np\n",
        "import matplotlib.pyplot as plt\n",
        "\n",
        "class CompareFitter(object):\n",
        "  \"\"\"\n",
        "  Given timeseries data, computes the sum of squared residuals of a linear fit \n",
        "  and a quadratic fit, selects the better fit, and plots it.\n",
        "\n",
        "  Args:\n",
        "    time (np.array of float): 1D array of times\n",
        "    data (np.array of float): 1D array of corresponding data points\n",
        "  \"\"\"\n",
        "\n",
        "  def __init__(self, time, data):\n",
        "    self.time = time\n",
        "    self.data = data\n",
        "    self.n_points = len(data)\n",
        "\n",
        "    assert len(self.time) == self.n_points, \"time and data must have same length!\"\n",
        "\n",
        "  def fit_line(self):\n",
        "    \"\"\"\n",
        "    Fits a line to the timeseries and computes the sum of squared residuals of \n",
        "    the fit.\n",
        "    \"\"\"\n",
        "    \n",
        "    self.lin_coeffs, self.linear_resids, _, _, _ = np.polyfit(\n",
        "        self.time, self.data, 1, full=True\n",
        "    )\n",
        "\n",
        "  def fit_quadratic(self):\n",
        "    \"\"\"\n",
        "    Fits a quadratic function to the timeseries and computes the sum of squared \n",
        "    residuals of the fit.\n",
        "    \"\"\"\n",
        "\n",
        "    self.quad_coeffs, self.quadratic_resids, _, _, _ = np.polyfit(\n",
        "        self.time, self.data, 2, full=True\n",
        "    )\n",
        "\n",
        "  def plot_best(self):\n",
        "    \"\"\"\n",
        "    Plots the model with minimum sum of squared residuals.\n",
        "    \"\"\"\n",
        "\n",
        "    fig, ax = plt.subplots(figsize=(5,5))\n",
        "    ax.scatter(self.time, self.data, color='purple')\n",
        "    ax.set_xlabel('time'); ax.set_ylabel('data')\n",
        "\n",
        "    if self.linear_resids <= self.quadratic_resids:\n",
        "      p = np.poly1d(self.lin_coeffs)\n",
        "      ax.plot(self.time, p(self.time), color='k')\n",
        "    else:\n",
        "      p = np.poly1d(self.quad_coeffs)\n",
        "      ax.plot(self.time, p(self.time), color='k')\n",
        "\n",
        "    return fig, ax"
      ],
      "execution_count": null,
      "outputs": []
    },
    {
      "cell_type": "markdown",
      "metadata": {
        "id": "0BV7QGuJW8MW"
      },
      "source": [
        "How would a user interact with this code? Write down two or more ways. \n",
        "\n",
        "- just fitting a line or just fitting a quadratic function\n",
        "- doing the full comparison and plotting the best fit\n",
        "\n",
        "What are some edge cases? Write down two or more edge cases.\n",
        "\n",
        "- zero data points (array of length 0)\n",
        "- one data point\n",
        "- all data points are zero\n",
        "- data points perfectly define a vertical line (undefined slope)\n",
        "- many more!\n",
        "\n",
        "\n"
      ]
    },
    {
      "cell_type": "code",
      "metadata": {
        "id": "VtMOXoRYXQgD",
        "colab": {
          "base_uri": "https://localhost:8080/",
          "height": 351
        },
        "outputId": "682290d0-bb29-4af2-8135-1b5829a2fa80"
      },
      "source": [
        "import pytest\n",
        "\n",
        "def test_fit_line():\n",
        "  \"\"\"\n",
        "  Tests the least squares fit behavior of CompareFitter.fit_line().\n",
        "  Checks the fitted values of m and b, as well as the residuals,\n",
        "  for a perfectly linear dataset.\n",
        "\n",
        "  \"\"\"\n",
        "  \n",
        "  # step 1: make a timeseries to test on.\n",
        "  m = 5\n",
        "  b = 10\n",
        "\n",
        "  times = np.linspace(0, 10, num=50)\n",
        "  data = m * times + b\n",
        "\n",
        "  # step 2: instantiate the CompareFitter class.\n",
        "  myFitter = CompareFitter(times, data)\n",
        "\n",
        "  # step 3: run CompareFitter.fit_line() and compare to your expectation.\n",
        "  # (use Python's assert functionality).\n",
        "  myFitter.fit_line()\n",
        "  fitted_m = myFitter.lin_coeffs[0]\n",
        "  fitted_b = myFitter.lin_coeffs[1]\n",
        "\n",
        "  linear_resids = myFitter.linear_resids\n",
        "\n",
        "  assert fitted_b == pytest.approx(b)\n",
        "  assert fitted_m == pytest.approx(m)\n",
        "  assert myFitter.linear_resids == pytest.approx(0)\n",
        "\n",
        "def test_fit_line_empty_array():\n",
        "  \"\"\"\n",
        "  Tests the behavior of CompareFitter.fit_line() for empty input arrays.\n",
        "  Expects a TypeError returned by numpy.polyfit.\n",
        "\n",
        "  (I included this particular test on purpose to demonstrate how\n",
        "  you might go about testing the error checking behavior of a code, although\n",
        "  many of you probably opted to test fit_quadratic() here.)\n",
        "  \"\"\"\n",
        "  empty_times = np.array([])\n",
        "  empty_data = np.array([])\n",
        "\n",
        "  myEmptyDataFitter = CompareFitter(empty_times, empty_data)\n",
        "\n",
        "  # catch only one particular type of error\n",
        "  try:\n",
        "    myEmptyDataFitter.fit_line()\n",
        "  except TypeError:\n",
        "    print('Error caught as expected!')\n",
        "\n",
        "def test_plot_best():\n",
        "  \"\"\"\n",
        "  Tests the overall behavior of CompareFitter.plot_best() for noisy\n",
        "  quadratic data.\n",
        "\n",
        "  Note that this test requires manual inspection of results.\n",
        "  \"\"\"\n",
        "\n",
        "  # define data parameters\n",
        "  a1 = 5\n",
        "  a2 = 3\n",
        "  b = 10\n",
        "  err = 50\n",
        "  arr_length = 50\n",
        "\n",
        "  # generate noisy data\n",
        "  times = np.linspace(0, 10, num=arr_length)\n",
        "  noiseless_data = a2 * times**2 + a1 * times + b\n",
        "  noisy_data = noiseless_data + np.random.uniform(high=err, size=arr_length)\n",
        "\n",
        "  # run our code as a user would\n",
        "  myFitter = CompareFitter(times, noisy_data)\n",
        "  myFitter.fit_line()\n",
        "  myFitter.fit_quadratic()\n",
        "  myFitter.plot_best()\n",
        "\n",
        "test_fit_line()\n",
        "test_fit_line_empty_array()\n",
        "test_plot_best()"
      ],
      "execution_count": null,
      "outputs": [
        {
          "output_type": "stream",
          "text": [
            "Error caught as expected!\n"
          ],
          "name": "stdout"
        },
        {
          "output_type": "display_data",
          "data": {
            "image/png": "[encoded data removed]",
            "text/plain": [
              "<Figure size 360x360 with 1 Axes>"
            ]
          },
          "metadata": {
            "tags": [],
            "needs_background": "light"
          }
        }
      ]
    },
    {
      "cell_type": "markdown",
      "metadata": {
        "id": "RdxvbjEuqJHb"
      },
      "source": [
        "Optional: How would you improve the original code? Implement your improvements.\n",
        "\n",
        "Hint: how might users \"break\" the code? How could you design it to decrease the probability of breakage?\n",
        "\n",
        "\n",
        "Many potential improvements. A few worth noting:\n",
        "- It would be good to add a descriptive error message for the empty array edge case, rather than letting `numpy.polyfit` catch it.\n",
        "- Right now, the code breaks if you don't run `fit_line()` and `fit_quadratic()` before `plot_best()`. Would be good to fix this (or at least document it!)\n",
        "- If we're running this many times (for example as part of a different script), we may not want a plot every time. Would be good to add a keyword that toggles plotting on and off, or better yet to separate out the plotting and numerical comparison functionality into separate methods.\n"
      ]
    },
    {
      "cell_type": "code",
      "metadata": {
        "id": "q9NVa2oq3h1c"
      },
      "source": [
        ""
      ],
      "execution_count": null,
      "outputs": []
    }
  ]
}